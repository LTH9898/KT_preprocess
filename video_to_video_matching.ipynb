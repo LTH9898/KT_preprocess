{
 "cells": [
  {
   "cell_type": "code",
   "execution_count": 1,
   "metadata": {},
   "outputs": [],
   "source": [
    "import time\n",
    "from PIL import Image\n",
    "import imagehash\n",
    "import cv2\n",
    "import numpy as np\n",
    "from tqdm import tqdm\n",
    "import moviepy.editor as mp\n",
    "import os\n",
    "\n",
    "def extract_frames(video_clip, end_frame=None):\n",
    "    print('Extracting frames..')\n",
    "    print('fps', video_clip.fps)\n",
    "    frames = []\n",
    "    for i, frame in tqdm(enumerate(video_clip.iter_frames(fps=1))):\n",
    "        if end_frame is not None and i >= end_frame:\n",
    "            break\n",
    "        frames.append(frame)\n",
    "    print('Extraction finished')\n",
    "    return frames\n",
    "\n",
    "def resize_frame(frame, size=(720, 1280)):\n",
    "    return cv2.resize(frame, size)\n",
    "\n",
    "def extract_frames_and_resize(diggle_highlight_video, merged_video, end_frame=None, size=(720, 1280)):\n",
    "\n",
    "    diggle_frames = [resize_frame(frame, size) for frame in tqdm(extract_frames(diggle_highlight_video, end_frame=end_frame))]\n",
    "    merged_frames = [resize_frame(frame, size) for frame in tqdm(extract_frames(merged_video, end_frame=end_frame))]\n",
    "\n",
    "    return diggle_frames, merged_frames"
   ]
  },
  {
   "cell_type": "code",
   "execution_count": 2,
   "metadata": {},
   "outputs": [
    {
     "name": "stdout",
     "output_type": "stream",
     "text": [
      "29.97002997002997 26800.961538461535\n",
      "23.976023976023978 37945\n"
     ]
    }
   ],
   "source": [
    "diggle_highlight_vid_path = '/hub_data2/taehoonlee/diggle/[1-8화 요약] 고구마 없는 매운맛 사이다 전개로 화제의 중심에 선 〈내 남편과 결혼해줘〉, 1-8화 하이라이트 모음집🔥 #내남편과결혼해줘.mp4' # 'video_n_frames': 214407\n",
    "merged_vid_path = '/hub_data2/taehoonlee/clips/S01E03/merged_video_S01E03.mkv' #  'video_n_frames': 33289\n",
    "\n",
    "diggle_highlight_video = mp.VideoFileClip(diggle_highlight_vid_path)\n",
    "merged_video = mp.VideoFileClip(merged_vid_path)\n",
    "\n",
    "print(diggle_highlight_video.fps, diggle_highlight_video.duration/8*diggle_highlight_video.fps)\n",
    "print(merged_video.fps, int(merged_video.duration*merged_video.fps))"
   ]
  },
  {
   "cell_type": "code",
   "execution_count": 3,
   "metadata": {},
   "outputs": [
    {
     "name": "stdout",
     "output_type": "stream",
     "text": [
      "Extracting frames..\n",
      "fps 29.97002997002997\n"
     ]
    },
    {
     "name": "stderr",
     "output_type": "stream",
     "text": [
      "7155it [02:53, 41.18it/s]\n"
     ]
    },
    {
     "name": "stdout",
     "output_type": "stream",
     "text": [
      "Extraction finished\n"
     ]
    },
    {
     "name": "stderr",
     "output_type": "stream",
     "text": [
      "100%|██████████| 7155/7155 [00:02<00:00, 3173.05it/s]\n"
     ]
    },
    {
     "name": "stdout",
     "output_type": "stream",
     "text": [
      "Extracting frames..\n",
      "fps 23.976023976023978\n"
     ]
    },
    {
     "name": "stderr",
     "output_type": "stream",
     "text": [
      "1583it [04:20,  6.08it/s]\n"
     ]
    },
    {
     "name": "stdout",
     "output_type": "stream",
     "text": [
      "Extraction finished\n"
     ]
    },
    {
     "name": "stderr",
     "output_type": "stream",
     "text": [
      "100%|██████████| 1583/1583 [00:00<00:00, 2476.29it/s]\n"
     ]
    }
   ],
   "source": [
    "# diggle_sub_clip = diggle_highlight_video.subclip(0, 100)\n",
    "# merged_sub_clip = merged_video.subclip(0, 100)\n",
    "\n",
    "diggle_frames, merged_frames = extract_frames_and_resize(diggle_highlight_video, merged_video)"
   ]
  },
  {
   "cell_type": "code",
   "execution_count": 4,
   "metadata": {},
   "outputs": [],
   "source": [
    "def frame_to_hash(frame):\n",
    "    \"\"\"Convert a frame to perceptual hash.\"\"\"\n",
    "    img = Image.fromarray(frame)\n",
    "    return imagehash.phash(img)\n",
    "\n",
    "def find_similar_timestamps(original_frames, target_frames, hash_threshold=6):\n",
    "    start_time = time.time()\n",
    "    \"\"\"\n",
    "    Find timestamps where frames in the original video are similar to frames in the target video.\n",
    "    \"\"\"\n",
    "    overlaps = []\n",
    "    \n",
    "    # Precompute hashes for both original and target frames\n",
    "    print(\"Computing hashes for original frames...\")\n",
    "    original_hashes = [frame_to_hash(frame) for frame in tqdm(original_frames)]\n",
    "    \n",
    "    print(\"Computing hashes for target frames and finding matches...\")\n",
    "    for i, target_frame in enumerate(tqdm(target_frames)):\n",
    "        target_hash = frame_to_hash(target_frame)\n",
    "        \n",
    "        min_diff = float('inf')\n",
    "        min_diff_idx = -1\n",
    "        # find one frame in original hases that is most similar to target hash\n",
    "        for j, original_hash in enumerate(original_hashes):\n",
    "            # Check Hamming distance\n",
    "            diff = original_hash - target_hash\n",
    "            if diff < min_diff:\n",
    "                min_diff = diff\n",
    "                min_diff_idx = j\n",
    "        \n",
    "        # Filter based on threshold\n",
    "        if min_diff <= hash_threshold:\n",
    "            overlaps.append((i, min_diff_idx))\n",
    "            \n",
    "    end_time = time.time()\n",
    "    print(f'Finding overlaps finished in {end_time - start_time:.2f} seconds')\n",
    "    return overlaps"
   ]
  },
  {
   "cell_type": "code",
   "execution_count": 5,
   "metadata": {},
   "outputs": [
    {
     "name": "stdout",
     "output_type": "stream",
     "text": [
      "Computing hashes for original frames...\n"
     ]
    },
    {
     "name": "stderr",
     "output_type": "stream",
     "text": [
      "100%|██████████| 7155/7155 [00:44<00:00, 159.97it/s]\n"
     ]
    },
    {
     "name": "stdout",
     "output_type": "stream",
     "text": [
      "Computing hashes for target frames and finding matches...\n"
     ]
    },
    {
     "name": "stderr",
     "output_type": "stream",
     "text": [
      "100%|██████████| 1583/1583 [00:42<00:00, 37.08it/s]"
     ]
    },
    {
     "name": "stdout",
     "output_type": "stream",
     "text": [
      "Finding overlaps finished in 87.42 seconds\n",
      "Overlapping frames: [(0, 1716), (23, 4506), (99, 590), (124, 3920), (346, 1917), (347, 1917), (350, 1929), (351, 1929), (365, 1737), (366, 1738), (367, 1740), (368, 1740), (369, 1740), (370, 1743), (371, 1747), (372, 1747), (373, 1747), (409, 522), (410, 522), (411, 522), (415, 522), (431, 522), (432, 522), (433, 522), (628, 1434), (629, 1518), (630, 1490), (631, 1491), (633, 1518), (634, 1494), (635, 1497), (636, 1498), (683, 1755), (684, 1755), (685, 1757), (686, 1757), (687, 1759), (688, 1759), (689, 1760), (690, 1762), (691, 1763), (692, 1764), (693, 1765), (694, 1766), (695, 1766), (696, 1768), (697, 1769), (698, 1769), (699, 1772), (700, 1773), (701, 1774), (702, 1775), (703, 1778), (704, 1779), (705, 1780), (706, 1781), (707, 1782), (708, 1783), (709, 1784), (710, 1785), (711, 1784), (712, 1787), (713, 1788), (715, 1794), (716, 1795), (717, 1801), (718, 1802), (719, 1803), (720, 1804), (721, 1805), (722, 1805), (724, 1808), (725, 1810), (726, 1810), (727, 1812), (728, 1813), (729, 1815), (730, 1816), (731, 1818), (732, 1818), (733, 1819), (734, 1820), (735, 1841), (736, 1842), (737, 1843), (738, 1847), (739, 1845), (740, 1846), (741, 1848), (742, 1849), (743, 1850), (744, 1851), (745, 1890), (746, 1890), (747, 1893), (748, 1893), (749, 1895), (750, 1896), (751, 1897), (809, 4249), (847, 6043), (875, 4651), (876, 4650), (946, 1904), (947, 1905), (948, 1912), (949, 1913), (950, 1917), (951, 1918), (952, 1929), (953, 1932), (954, 1933), (955, 1934), (956, 1945), (957, 1945), (958, 1952), (959, 1954), (960, 1955), (961, 1956), (962, 1956), (963, 1960), (964, 1959), (965, 1960), (967, 1964), (968, 1965), (969, 1966), (970, 1968), (971, 1969), (972, 1970), (973, 1971), (974, 1972), (975, 1974), (976, 1975), (977, 1976), (979, 1975), (980, 1983), (981, 1985), (983, 1993), (984, 1989), (985, 1992), (986, 1993), (987, 1994), (988, 1996), (989, 1997), (991, 1999), (992, 2000), (993, 2001), (994, 2002), (995, 2003), (996, 2004), (997, 2005), (998, 2006), (1026, 2009), (1027, 2008), (1028, 2009), (1029, 2010), (1030, 2011), (1031, 2011), (1032, 2013), (1033, 2014), (1034, 2016), (1035, 2018), (1036, 2018), (1037, 2019), (1038, 2020), (1039, 2022), (1040, 2022), (1041, 2022), (1042, 2026), (1043, 1429), (1045, 1435), (1046, 1436), (1047, 1437), (1048, 1437), (1049, 1439), (1050, 1473), (1051, 2119), (1052, 2038), (1054, 2040), (1055, 2041), (1056, 2041), (1057, 2042), (1058, 2099), (1059, 2045), (1060, 2046), (1061, 2046), (1062, 2046), (1063, 2050), (1064, 2085), (1065, 2049), (1066, 2052), (1067, 2053), (1068, 2054), (1069, 2055), (1070, 2056), (1071, 2057), (1072, 2058), (1073, 2059), (1074, 2060), (1077, 2065), (1078, 2066), (1079, 2067), (1080, 2068), (1081, 2069), (1082, 2070), (1083, 2071), (1084, 2072), (1085, 2074), (1086, 2075), (1087, 2076), (1089, 2120), (1090, 2124), (1092, 2124), (1093, 2126), (1094, 2126), (1095, 2128), (1096, 2127), (1097, 2141), (1098, 2142), (1099, 2143), (1100, 2144), (1101, 2145), (1102, 2146), (1103, 2146), (1104, 2148), (1105, 2150), (1106, 2150), (1107, 2153), (1108, 2153), (1109, 2154), (1110, 2157), (1111, 2159), (1112, 2161), (1113, 2154), (1114, 2163), (1116, 2173), (1117, 2175), (1118, 2176), (1119, 2178), (1120, 2178), (1121, 2179), (1122, 2182), (1123, 2185), (1124, 2186), (1125, 2190), (1126, 2192), (1127, 2189), (1128, 2190), (1129, 2190), (1130, 2192), (1131, 2193), (1132, 2193), (1133, 2196), (1134, 2198), (1135, 2198), (1136, 2201), (1137, 2202), (1138, 2202), (1139, 2205), (1140, 2207), (1141, 2208), (1142, 2198), (1143, 2210), (1144, 2212), (1145, 2210), (1146, 2212), (1147, 2214), (1148, 2216), (1149, 2218), (1150, 2219), (1151, 2219), (1152, 2197), (1153, 2225), (1154, 2225), (1155, 2226), (1156, 2225), (1157, 2225), (1158, 2225), (1159, 2230), (1160, 2234), (1162, 2196), (1163, 2243), (1164, 2244), (1165, 2245), (1166, 2246), (1167, 2247), (1168, 2248), (1169, 2249), (1170, 2250), (1171, 2218), (1172, 2253), (1173, 2254), (1174, 2255), (1175, 2257), (1176, 2258), (1177, 2258), (1178, 2259), (1179, 2260), (1180, 2264), (1181, 2264), (1182, 2266), (1183, 2267), (1184, 2281), (1185, 2284), (1186, 2286), (1187, 2286), (1188, 2287), (1189, 2288), (1190, 2288), (1191, 2292), (1192, 2293), (1193, 2296), (1194, 2296), (1195, 2298), (1196, 2298), (1197, 2299), (1198, 2302), (1199, 2299), (1200, 2307), (1201, 2308), (1202, 2309), (1203, 2310), (1204, 2310), (1205, 2312), (1206, 2313), (1207, 2314), (1208, 2315), (1209, 2317), (1210, 2317), (1211, 2318), (1212, 2319), (1213, 2320), (1214, 2323), (1215, 2323), (1216, 2323), (1217, 2326), (1218, 2327), (1219, 2334), (1220, 2353), (1221, 2354), (1222, 2357), (1223, 2358), (1225, 2360), (1226, 2365), (1227, 2365), (1228, 2367), (1229, 2367), (1230, 2367), (1231, 2382), (1232, 2382), (1233, 2384), (1234, 2386), (1235, 2386), (1236, 2387), (1237, 2387), (1238, 2391), (1239, 2392), (1240, 2395), (1241, 2396), (1242, 2397), (1243, 2399), (1244, 2400), (1245, 2401), (1246, 2405), (1247, 2416), (1248, 2424), (1249, 2424), (1250, 2425), (1251, 2427), (1252, 2428), (1253, 2429), (1254, 2430), (1255, 2426), (1256, 2437), (1257, 2438), (1258, 2440), (1259, 2445), (1260, 2446), (1261, 2448), (1262, 2448), (1263, 2449), (1264, 2451), (1265, 2372), (1266, 2456), (1267, 2456), (1268, 2395), (1269, 2459), (1270, 2461), (1271, 2462), (1272, 2463), (1273, 2463), (1274, 2466), (1275, 2468), (1276, 2469), (1277, 2466), (1278, 2472), (1279, 2473), (1280, 2474), (1281, 2475), (1282, 2476), (1283, 2478), (1284, 2478), (1285, 2481), (1286, 2480), (1287, 2484), (1288, 2486), (1289, 2487), (1290, 2487), (1291, 2489), (1292, 2490), (1293, 2491), (1294, 2492), (1295, 2495), (1296, 2495), (1297, 2497), (1298, 2497), (1299, 2497), (1300, 2499), (1301, 2500), (1302, 2501), (1303, 2503), (1305, 2505), (1306, 2506), (1307, 2507), (1308, 2508), (1309, 2511), (1310, 2513), (1311, 2515), (1312, 2516), (1313, 2517), (1314, 2518), (1315, 2523), (1316, 2525), (1317, 2525), (1318, 2525), (1319, 2518), (1320, 2529), (1321, 2531), (1322, 2532), (1323, 2533), (1324, 2535), (1325, 2494), (1326, 2537), (1327, 2509), (1328, 2518), (1329, 2525), (1330, 2545), (1331, 2545), (1332, 2565), (1333, 2571), (1334, 2567), (1335, 2576), (1412, 4518), (1509, 2562), (1510, 2546), (1529, 2583), (1530, 2587), (1531, 2588), (1532, 2589), (1533, 2596), (1534, 2596), (1535, 2597), (1536, 2598), (1537, 2601), (1538, 2611), (1539, 2618), (1540, 2619), (1541, 2622), (1542, 2624), (1543, 2624), (1544, 2610), (1545, 2628), (1546, 2629), (1547, 2630), (1548, 2632), (1549, 2635), (1550, 2635), (1551, 2645), (1552, 2646), (1553, 2649), (1554, 3015), (1555, 3018), (1557, 3082), (1558, 3081), (1560, 3093), (1564, 2752), (1565, 2766), (1566, 2671), (1568, 2802)]\n"
     ]
    },
    {
     "name": "stderr",
     "output_type": "stream",
     "text": [
      "\n"
     ]
    }
   ],
   "source": [
    "# 대사 있는 부분에서 diggle에 있는 부분을 찾아야 하기 때문에.. target video는 merged video로 설정\n",
    "\n",
    "hash_threshold = 10\n",
    "overlapping_frames = find_similar_timestamps(diggle_frames, merged_frames, hash_threshold=hash_threshold)\n",
    "print(\"Overlapping frames:\", overlapping_frames)"
   ]
  },
  {
   "cell_type": "code",
   "execution_count": 6,
   "metadata": {},
   "outputs": [
    {
     "name": "stdout",
     "output_type": "stream",
     "text": [
      "[(0, 0), (23, 23), (99, 99), (124, 124), (346, 347), (350, 351), (365, 373), (409, 411), (415, 415), (431, 433), (628, 631), (633, 636), (683, 713), (715, 722), (724, 751), (809, 809), (847, 847), (875, 876), (946, 965), (967, 977), (979, 981), (983, 989), (991, 998), (1026, 1043), (1045, 1052), (1054, 1074), (1077, 1087), (1089, 1090), (1092, 1114), (1116, 1160), (1162, 1223), (1225, 1303), (1305, 1335), (1412, 1412), (1509, 1510), (1529, 1555), (1557, 1558), (1560, 1560), (1564, 1566), (1568, 1568)]\n",
      "0 1\n",
      "Moviepy - Building video /home/taehoonlee/KT/mp4s/diggled/SO1EO3.mp4.\n",
      "MoviePy - Writing audio in SO1EO3TEMP_MPY_wvf_snd.mp4\n"
     ]
    },
    {
     "name": "stderr",
     "output_type": "stream",
     "text": [
      "                                                       \r"
     ]
    },
    {
     "name": "stdout",
     "output_type": "stream",
     "text": [
      "MoviePy - Done.\n",
      "Moviepy - Writing video /home/taehoonlee/KT/mp4s/diggled/SO1EO3.mp4\n",
      "\n"
     ]
    },
    {
     "name": "stderr",
     "output_type": "stream",
     "text": [
      "                                                             \r"
     ]
    },
    {
     "name": "stdout",
     "output_type": "stream",
     "text": [
      "Moviepy - Done !\n",
      "Moviepy - video ready /home/taehoonlee/KT/mp4s/diggled/SO1EO3.mp4\n",
      "23 24\n",
      "Moviepy - Building video /home/taehoonlee/KT/mp4s/diggled/SO1EO3.mp4.\n",
      "MoviePy - Writing audio in SO1EO3TEMP_MPY_wvf_snd.mp4\n"
     ]
    },
    {
     "name": "stderr",
     "output_type": "stream",
     "text": [
      "                                                       \r"
     ]
    },
    {
     "name": "stdout",
     "output_type": "stream",
     "text": [
      "MoviePy - Done.\n",
      "Moviepy - Writing video /home/taehoonlee/KT/mp4s/diggled/SO1EO3.mp4\n",
      "\n"
     ]
    },
    {
     "name": "stderr",
     "output_type": "stream",
     "text": [
      "                                                             \r"
     ]
    },
    {
     "name": "stdout",
     "output_type": "stream",
     "text": [
      "Moviepy - Done !\n",
      "Moviepy - video ready /home/taehoonlee/KT/mp4s/diggled/SO1EO3.mp4\n",
      "99 100\n",
      "Moviepy - Building video /home/taehoonlee/KT/mp4s/diggled/SO1EO3.mp4.\n",
      "MoviePy - Writing audio in SO1EO3TEMP_MPY_wvf_snd.mp4\n"
     ]
    },
    {
     "name": "stderr",
     "output_type": "stream",
     "text": [
      "                                                       \r"
     ]
    },
    {
     "name": "stdout",
     "output_type": "stream",
     "text": [
      "MoviePy - Done.\n",
      "Moviepy - Writing video /home/taehoonlee/KT/mp4s/diggled/SO1EO3.mp4\n",
      "\n"
     ]
    },
    {
     "name": "stderr",
     "output_type": "stream",
     "text": [
      "                                                             \r"
     ]
    },
    {
     "name": "stdout",
     "output_type": "stream",
     "text": [
      "Moviepy - Done !\n",
      "Moviepy - video ready /home/taehoonlee/KT/mp4s/diggled/SO1EO3.mp4\n",
      "124 125\n",
      "Moviepy - Building video /home/taehoonlee/KT/mp4s/diggled/SO1EO3.mp4.\n",
      "MoviePy - Writing audio in SO1EO3TEMP_MPY_wvf_snd.mp4\n"
     ]
    },
    {
     "name": "stderr",
     "output_type": "stream",
     "text": [
      "                                                       \r"
     ]
    },
    {
     "name": "stdout",
     "output_type": "stream",
     "text": [
      "MoviePy - Done.\n",
      "Moviepy - Writing video /home/taehoonlee/KT/mp4s/diggled/SO1EO3.mp4\n",
      "\n"
     ]
    },
    {
     "name": "stderr",
     "output_type": "stream",
     "text": [
      "                                                             \r"
     ]
    },
    {
     "name": "stdout",
     "output_type": "stream",
     "text": [
      "Moviepy - Done !\n",
      "Moviepy - video ready /home/taehoonlee/KT/mp4s/diggled/SO1EO3.mp4\n",
      "346 347\n",
      "Moviepy - Building video /home/taehoonlee/KT/mp4s/diggled/SO1EO3.mp4.\n",
      "MoviePy - Writing audio in SO1EO3TEMP_MPY_wvf_snd.mp4\n"
     ]
    },
    {
     "name": "stderr",
     "output_type": "stream",
     "text": [
      "                                                       \r"
     ]
    },
    {
     "name": "stdout",
     "output_type": "stream",
     "text": [
      "MoviePy - Done.\n",
      "Moviepy - Writing video /home/taehoonlee/KT/mp4s/diggled/SO1EO3.mp4\n",
      "\n"
     ]
    },
    {
     "name": "stderr",
     "output_type": "stream",
     "text": [
      "                                                             \r"
     ]
    },
    {
     "name": "stdout",
     "output_type": "stream",
     "text": [
      "Moviepy - Done !\n",
      "Moviepy - video ready /home/taehoonlee/KT/mp4s/diggled/SO1EO3.mp4\n",
      "350 351\n",
      "Moviepy - Building video /home/taehoonlee/KT/mp4s/diggled/SO1EO3.mp4.\n",
      "MoviePy - Writing audio in SO1EO3TEMP_MPY_wvf_snd.mp4\n"
     ]
    },
    {
     "name": "stderr",
     "output_type": "stream",
     "text": [
      "                                                       \r"
     ]
    },
    {
     "name": "stdout",
     "output_type": "stream",
     "text": [
      "MoviePy - Done.\n",
      "Moviepy - Writing video /home/taehoonlee/KT/mp4s/diggled/SO1EO3.mp4\n",
      "\n"
     ]
    },
    {
     "name": "stderr",
     "output_type": "stream",
     "text": [
      "                                                             \r"
     ]
    },
    {
     "name": "stdout",
     "output_type": "stream",
     "text": [
      "Moviepy - Done !\n",
      "Moviepy - video ready /home/taehoonlee/KT/mp4s/diggled/SO1EO3.mp4\n",
      "365 373\n",
      "Moviepy - Building video /home/taehoonlee/KT/mp4s/diggled/SO1EO3.mp4.\n",
      "MoviePy - Writing audio in SO1EO3TEMP_MPY_wvf_snd.mp4\n"
     ]
    },
    {
     "name": "stderr",
     "output_type": "stream",
     "text": [
      "                                                                    \r"
     ]
    },
    {
     "name": "stdout",
     "output_type": "stream",
     "text": [
      "MoviePy - Done.\n",
      "Moviepy - Writing video /home/taehoonlee/KT/mp4s/diggled/SO1EO3.mp4\n",
      "\n"
     ]
    },
    {
     "name": "stderr",
     "output_type": "stream",
     "text": [
      "                                                               \r"
     ]
    },
    {
     "name": "stdout",
     "output_type": "stream",
     "text": [
      "Moviepy - Done !\n",
      "Moviepy - video ready /home/taehoonlee/KT/mp4s/diggled/SO1EO3.mp4\n",
      "409 411\n",
      "Moviepy - Building video /home/taehoonlee/KT/mp4s/diggled/SO1EO3.mp4.\n",
      "MoviePy - Writing audio in SO1EO3TEMP_MPY_wvf_snd.mp4\n"
     ]
    },
    {
     "name": "stderr",
     "output_type": "stream",
     "text": [
      "                                                       \r"
     ]
    },
    {
     "name": "stdout",
     "output_type": "stream",
     "text": [
      "MoviePy - Done.\n",
      "Moviepy - Writing video /home/taehoonlee/KT/mp4s/diggled/SO1EO3.mp4\n",
      "\n"
     ]
    },
    {
     "name": "stderr",
     "output_type": "stream",
     "text": [
      "                                                             \r"
     ]
    },
    {
     "name": "stdout",
     "output_type": "stream",
     "text": [
      "Moviepy - Done !\n",
      "Moviepy - video ready /home/taehoonlee/KT/mp4s/diggled/SO1EO3.mp4\n",
      "415 416\n",
      "Moviepy - Building video /home/taehoonlee/KT/mp4s/diggled/SO1EO3.mp4.\n",
      "MoviePy - Writing audio in SO1EO3TEMP_MPY_wvf_snd.mp4\n"
     ]
    },
    {
     "name": "stderr",
     "output_type": "stream",
     "text": [
      "                                                       \r"
     ]
    },
    {
     "name": "stdout",
     "output_type": "stream",
     "text": [
      "MoviePy - Done.\n",
      "Moviepy - Writing video /home/taehoonlee/KT/mp4s/diggled/SO1EO3.mp4\n",
      "\n"
     ]
    },
    {
     "name": "stderr",
     "output_type": "stream",
     "text": [
      "                                                             \r"
     ]
    },
    {
     "name": "stdout",
     "output_type": "stream",
     "text": [
      "Moviepy - Done !\n",
      "Moviepy - video ready /home/taehoonlee/KT/mp4s/diggled/SO1EO3.mp4\n",
      "431 433\n",
      "Moviepy - Building video /home/taehoonlee/KT/mp4s/diggled/SO1EO3.mp4.\n",
      "MoviePy - Writing audio in SO1EO3TEMP_MPY_wvf_snd.mp4\n"
     ]
    },
    {
     "name": "stderr",
     "output_type": "stream",
     "text": [
      "                                                       \r"
     ]
    },
    {
     "name": "stdout",
     "output_type": "stream",
     "text": [
      "MoviePy - Done.\n",
      "Moviepy - Writing video /home/taehoonlee/KT/mp4s/diggled/SO1EO3.mp4\n",
      "\n"
     ]
    },
    {
     "name": "stderr",
     "output_type": "stream",
     "text": [
      "                                                             \r"
     ]
    },
    {
     "name": "stdout",
     "output_type": "stream",
     "text": [
      "Moviepy - Done !\n",
      "Moviepy - video ready /home/taehoonlee/KT/mp4s/diggled/SO1EO3.mp4\n",
      "628 631\n",
      "Moviepy - Building video /home/taehoonlee/KT/mp4s/diggled/SO1EO3.mp4.\n",
      "MoviePy - Writing audio in SO1EO3TEMP_MPY_wvf_snd.mp4\n"
     ]
    },
    {
     "name": "stderr",
     "output_type": "stream",
     "text": [
      "                                                       \r"
     ]
    },
    {
     "name": "stdout",
     "output_type": "stream",
     "text": [
      "MoviePy - Done.\n",
      "Moviepy - Writing video /home/taehoonlee/KT/mp4s/diggled/SO1EO3.mp4\n",
      "\n"
     ]
    },
    {
     "name": "stderr",
     "output_type": "stream",
     "text": [
      "                                                             \r"
     ]
    },
    {
     "name": "stdout",
     "output_type": "stream",
     "text": [
      "Moviepy - Done !\n",
      "Moviepy - video ready /home/taehoonlee/KT/mp4s/diggled/SO1EO3.mp4\n",
      "633 636\n",
      "Moviepy - Building video /home/taehoonlee/KT/mp4s/diggled/SO1EO3.mp4.\n",
      "MoviePy - Writing audio in SO1EO3TEMP_MPY_wvf_snd.mp4\n"
     ]
    },
    {
     "name": "stderr",
     "output_type": "stream",
     "text": [
      "                                                       \r"
     ]
    },
    {
     "name": "stdout",
     "output_type": "stream",
     "text": [
      "MoviePy - Done.\n",
      "Moviepy - Writing video /home/taehoonlee/KT/mp4s/diggled/SO1EO3.mp4\n",
      "\n"
     ]
    },
    {
     "name": "stderr",
     "output_type": "stream",
     "text": [
      "                                                             \r"
     ]
    },
    {
     "name": "stdout",
     "output_type": "stream",
     "text": [
      "Moviepy - Done !\n",
      "Moviepy - video ready /home/taehoonlee/KT/mp4s/diggled/SO1EO3.mp4\n",
      "683 713\n",
      "Moviepy - Building video /home/taehoonlee/KT/mp4s/diggled/SO1EO3.mp4.\n",
      "MoviePy - Writing audio in SO1EO3TEMP_MPY_wvf_snd.mp4\n"
     ]
    },
    {
     "name": "stderr",
     "output_type": "stream",
     "text": [
      "                                                                    \r"
     ]
    },
    {
     "name": "stdout",
     "output_type": "stream",
     "text": [
      "MoviePy - Done.\n",
      "Moviepy - Writing video /home/taehoonlee/KT/mp4s/diggled/SO1EO3.mp4\n",
      "\n"
     ]
    },
    {
     "name": "stderr",
     "output_type": "stream",
     "text": [
      "                                                               \r"
     ]
    },
    {
     "name": "stdout",
     "output_type": "stream",
     "text": [
      "Moviepy - Done !\n",
      "Moviepy - video ready /home/taehoonlee/KT/mp4s/diggled/SO1EO3.mp4\n",
      "715 722\n",
      "Moviepy - Building video /home/taehoonlee/KT/mp4s/diggled/SO1EO3.mp4.\n",
      "MoviePy - Writing audio in SO1EO3TEMP_MPY_wvf_snd.mp4\n"
     ]
    },
    {
     "name": "stderr",
     "output_type": "stream",
     "text": [
      "                                                                    \r"
     ]
    },
    {
     "name": "stdout",
     "output_type": "stream",
     "text": [
      "MoviePy - Done.\n",
      "Moviepy - Writing video /home/taehoonlee/KT/mp4s/diggled/SO1EO3.mp4\n",
      "\n"
     ]
    },
    {
     "name": "stderr",
     "output_type": "stream",
     "text": [
      "                                                               \r"
     ]
    },
    {
     "name": "stdout",
     "output_type": "stream",
     "text": [
      "Moviepy - Done !\n",
      "Moviepy - video ready /home/taehoonlee/KT/mp4s/diggled/SO1EO3.mp4\n",
      "724 751\n",
      "Moviepy - Building video /home/taehoonlee/KT/mp4s/diggled/SO1EO3.mp4.\n",
      "MoviePy - Writing audio in SO1EO3TEMP_MPY_wvf_snd.mp4\n"
     ]
    },
    {
     "name": "stderr",
     "output_type": "stream",
     "text": [
      "                                                                    \r"
     ]
    },
    {
     "name": "stdout",
     "output_type": "stream",
     "text": [
      "MoviePy - Done.\n",
      "Moviepy - Writing video /home/taehoonlee/KT/mp4s/diggled/SO1EO3.mp4\n",
      "\n"
     ]
    },
    {
     "name": "stderr",
     "output_type": "stream",
     "text": [
      "                                                               \r"
     ]
    },
    {
     "name": "stdout",
     "output_type": "stream",
     "text": [
      "Moviepy - Done !\n",
      "Moviepy - video ready /home/taehoonlee/KT/mp4s/diggled/SO1EO3.mp4\n",
      "809 810\n",
      "Moviepy - Building video /home/taehoonlee/KT/mp4s/diggled/SO1EO3.mp4.\n",
      "MoviePy - Writing audio in SO1EO3TEMP_MPY_wvf_snd.mp4\n"
     ]
    },
    {
     "name": "stderr",
     "output_type": "stream",
     "text": [
      "                                                       \r"
     ]
    },
    {
     "name": "stdout",
     "output_type": "stream",
     "text": [
      "MoviePy - Done.\n",
      "Moviepy - Writing video /home/taehoonlee/KT/mp4s/diggled/SO1EO3.mp4\n",
      "\n"
     ]
    },
    {
     "name": "stderr",
     "output_type": "stream",
     "text": [
      "                                                             \r"
     ]
    },
    {
     "name": "stdout",
     "output_type": "stream",
     "text": [
      "Moviepy - Done !\n",
      "Moviepy - video ready /home/taehoonlee/KT/mp4s/diggled/SO1EO3.mp4\n",
      "847 848\n",
      "Moviepy - Building video /home/taehoonlee/KT/mp4s/diggled/SO1EO3.mp4.\n",
      "MoviePy - Writing audio in SO1EO3TEMP_MPY_wvf_snd.mp4\n"
     ]
    },
    {
     "name": "stderr",
     "output_type": "stream",
     "text": [
      "                                                       \r"
     ]
    },
    {
     "name": "stdout",
     "output_type": "stream",
     "text": [
      "MoviePy - Done.\n",
      "Moviepy - Writing video /home/taehoonlee/KT/mp4s/diggled/SO1EO3.mp4\n",
      "\n"
     ]
    },
    {
     "name": "stderr",
     "output_type": "stream",
     "text": [
      "                                                             \r"
     ]
    },
    {
     "name": "stdout",
     "output_type": "stream",
     "text": [
      "Moviepy - Done !\n",
      "Moviepy - video ready /home/taehoonlee/KT/mp4s/diggled/SO1EO3.mp4\n",
      "875 876\n",
      "Moviepy - Building video /home/taehoonlee/KT/mp4s/diggled/SO1EO3.mp4.\n",
      "MoviePy - Writing audio in SO1EO3TEMP_MPY_wvf_snd.mp4\n"
     ]
    },
    {
     "name": "stderr",
     "output_type": "stream",
     "text": [
      "                                                       \r"
     ]
    },
    {
     "name": "stdout",
     "output_type": "stream",
     "text": [
      "MoviePy - Done.\n",
      "Moviepy - Writing video /home/taehoonlee/KT/mp4s/diggled/SO1EO3.mp4\n",
      "\n"
     ]
    },
    {
     "name": "stderr",
     "output_type": "stream",
     "text": [
      "                                                             \r"
     ]
    },
    {
     "name": "stdout",
     "output_type": "stream",
     "text": [
      "Moviepy - Done !\n",
      "Moviepy - video ready /home/taehoonlee/KT/mp4s/diggled/SO1EO3.mp4\n",
      "946 965\n",
      "Moviepy - Building video /home/taehoonlee/KT/mp4s/diggled/SO1EO3.mp4.\n",
      "MoviePy - Writing audio in SO1EO3TEMP_MPY_wvf_snd.mp4\n"
     ]
    },
    {
     "name": "stderr",
     "output_type": "stream",
     "text": [
      "                                                                    \r"
     ]
    },
    {
     "name": "stdout",
     "output_type": "stream",
     "text": [
      "MoviePy - Done.\n",
      "Moviepy - Writing video /home/taehoonlee/KT/mp4s/diggled/SO1EO3.mp4\n",
      "\n"
     ]
    },
    {
     "name": "stderr",
     "output_type": "stream",
     "text": [
      "                                                               \r"
     ]
    },
    {
     "name": "stdout",
     "output_type": "stream",
     "text": [
      "Moviepy - Done !\n",
      "Moviepy - video ready /home/taehoonlee/KT/mp4s/diggled/SO1EO3.mp4\n",
      "967 977\n",
      "Moviepy - Building video /home/taehoonlee/KT/mp4s/diggled/SO1EO3.mp4.\n",
      "MoviePy - Writing audio in SO1EO3TEMP_MPY_wvf_snd.mp4\n"
     ]
    },
    {
     "name": "stderr",
     "output_type": "stream",
     "text": [
      "                                                                    \r"
     ]
    },
    {
     "name": "stdout",
     "output_type": "stream",
     "text": [
      "MoviePy - Done.\n",
      "Moviepy - Writing video /home/taehoonlee/KT/mp4s/diggled/SO1EO3.mp4\n",
      "\n"
     ]
    },
    {
     "name": "stderr",
     "output_type": "stream",
     "text": [
      "                                                               \r"
     ]
    },
    {
     "name": "stdout",
     "output_type": "stream",
     "text": [
      "Moviepy - Done !\n",
      "Moviepy - video ready /home/taehoonlee/KT/mp4s/diggled/SO1EO3.mp4\n",
      "979 981\n",
      "Moviepy - Building video /home/taehoonlee/KT/mp4s/diggled/SO1EO3.mp4.\n",
      "MoviePy - Writing audio in SO1EO3TEMP_MPY_wvf_snd.mp4\n"
     ]
    },
    {
     "name": "stderr",
     "output_type": "stream",
     "text": [
      "                                                       \r"
     ]
    },
    {
     "name": "stdout",
     "output_type": "stream",
     "text": [
      "MoviePy - Done.\n",
      "Moviepy - Writing video /home/taehoonlee/KT/mp4s/diggled/SO1EO3.mp4\n",
      "\n"
     ]
    },
    {
     "name": "stderr",
     "output_type": "stream",
     "text": [
      "                                                             \r"
     ]
    },
    {
     "name": "stdout",
     "output_type": "stream",
     "text": [
      "Moviepy - Done !\n",
      "Moviepy - video ready /home/taehoonlee/KT/mp4s/diggled/SO1EO3.mp4\n",
      "983 989\n",
      "Moviepy - Building video /home/taehoonlee/KT/mp4s/diggled/SO1EO3.mp4.\n",
      "MoviePy - Writing audio in SO1EO3TEMP_MPY_wvf_snd.mp4\n"
     ]
    },
    {
     "name": "stderr",
     "output_type": "stream",
     "text": [
      "                                                        \r"
     ]
    },
    {
     "name": "stdout",
     "output_type": "stream",
     "text": [
      "MoviePy - Done.\n",
      "Moviepy - Writing video /home/taehoonlee/KT/mp4s/diggled/SO1EO3.mp4\n",
      "\n"
     ]
    },
    {
     "name": "stderr",
     "output_type": "stream",
     "text": [
      "                                                              \r"
     ]
    },
    {
     "name": "stdout",
     "output_type": "stream",
     "text": [
      "Moviepy - Done !\n",
      "Moviepy - video ready /home/taehoonlee/KT/mp4s/diggled/SO1EO3.mp4\n",
      "991 998\n",
      "Moviepy - Building video /home/taehoonlee/KT/mp4s/diggled/SO1EO3.mp4.\n",
      "MoviePy - Writing audio in SO1EO3TEMP_MPY_wvf_snd.mp4\n"
     ]
    },
    {
     "name": "stderr",
     "output_type": "stream",
     "text": [
      "                                                                    \r"
     ]
    },
    {
     "name": "stdout",
     "output_type": "stream",
     "text": [
      "MoviePy - Done.\n",
      "Moviepy - Writing video /home/taehoonlee/KT/mp4s/diggled/SO1EO3.mp4\n",
      "\n"
     ]
    },
    {
     "name": "stderr",
     "output_type": "stream",
     "text": [
      "                                                              \r"
     ]
    },
    {
     "name": "stdout",
     "output_type": "stream",
     "text": [
      "Moviepy - Done !\n",
      "Moviepy - video ready /home/taehoonlee/KT/mp4s/diggled/SO1EO3.mp4\n",
      "1026 1043\n",
      "Moviepy - Building video /home/taehoonlee/KT/mp4s/diggled/SO1EO3.mp4.\n",
      "MoviePy - Writing audio in SO1EO3TEMP_MPY_wvf_snd.mp4\n"
     ]
    },
    {
     "name": "stderr",
     "output_type": "stream",
     "text": [
      "                                                                    \r"
     ]
    },
    {
     "name": "stdout",
     "output_type": "stream",
     "text": [
      "MoviePy - Done.\n",
      "Moviepy - Writing video /home/taehoonlee/KT/mp4s/diggled/SO1EO3.mp4\n",
      "\n"
     ]
    },
    {
     "name": "stderr",
     "output_type": "stream",
     "text": [
      "                                                               \r"
     ]
    },
    {
     "name": "stdout",
     "output_type": "stream",
     "text": [
      "Moviepy - Done !\n",
      "Moviepy - video ready /home/taehoonlee/KT/mp4s/diggled/SO1EO3.mp4\n",
      "1045 1052\n",
      "Moviepy - Building video /home/taehoonlee/KT/mp4s/diggled/SO1EO3.mp4.\n",
      "MoviePy - Writing audio in SO1EO3TEMP_MPY_wvf_snd.mp4\n"
     ]
    },
    {
     "name": "stderr",
     "output_type": "stream",
     "text": [
      "                                                                    \r"
     ]
    },
    {
     "name": "stdout",
     "output_type": "stream",
     "text": [
      "MoviePy - Done.\n",
      "Moviepy - Writing video /home/taehoonlee/KT/mp4s/diggled/SO1EO3.mp4\n",
      "\n"
     ]
    },
    {
     "name": "stderr",
     "output_type": "stream",
     "text": [
      "                                                               \r"
     ]
    },
    {
     "name": "stdout",
     "output_type": "stream",
     "text": [
      "Moviepy - Done !\n",
      "Moviepy - video ready /home/taehoonlee/KT/mp4s/diggled/SO1EO3.mp4\n",
      "1054 1074\n",
      "Moviepy - Building video /home/taehoonlee/KT/mp4s/diggled/SO1EO3.mp4.\n",
      "MoviePy - Writing audio in SO1EO3TEMP_MPY_wvf_snd.mp4\n"
     ]
    },
    {
     "name": "stderr",
     "output_type": "stream",
     "text": [
      "                                                                    \r"
     ]
    },
    {
     "name": "stdout",
     "output_type": "stream",
     "text": [
      "MoviePy - Done.\n",
      "Moviepy - Writing video /home/taehoonlee/KT/mp4s/diggled/SO1EO3.mp4\n",
      "\n"
     ]
    },
    {
     "name": "stderr",
     "output_type": "stream",
     "text": [
      "                                                               \r"
     ]
    },
    {
     "name": "stdout",
     "output_type": "stream",
     "text": [
      "Moviepy - Done !\n",
      "Moviepy - video ready /home/taehoonlee/KT/mp4s/diggled/SO1EO3.mp4\n",
      "1077 1087\n",
      "Moviepy - Building video /home/taehoonlee/KT/mp4s/diggled/SO1EO3.mp4.\n",
      "MoviePy - Writing audio in SO1EO3TEMP_MPY_wvf_snd.mp4\n"
     ]
    },
    {
     "name": "stderr",
     "output_type": "stream",
     "text": [
      "                                                                    \r"
     ]
    },
    {
     "name": "stdout",
     "output_type": "stream",
     "text": [
      "MoviePy - Done.\n",
      "Moviepy - Writing video /home/taehoonlee/KT/mp4s/diggled/SO1EO3.mp4\n",
      "\n"
     ]
    },
    {
     "name": "stderr",
     "output_type": "stream",
     "text": [
      "                                                               \r"
     ]
    },
    {
     "name": "stdout",
     "output_type": "stream",
     "text": [
      "Moviepy - Done !\n",
      "Moviepy - video ready /home/taehoonlee/KT/mp4s/diggled/SO1EO3.mp4\n",
      "1089 1090\n",
      "Moviepy - Building video /home/taehoonlee/KT/mp4s/diggled/SO1EO3.mp4.\n",
      "MoviePy - Writing audio in SO1EO3TEMP_MPY_wvf_snd.mp4\n"
     ]
    },
    {
     "name": "stderr",
     "output_type": "stream",
     "text": [
      "                                                       \r"
     ]
    },
    {
     "name": "stdout",
     "output_type": "stream",
     "text": [
      "MoviePy - Done.\n",
      "Moviepy - Writing video /home/taehoonlee/KT/mp4s/diggled/SO1EO3.mp4\n",
      "\n"
     ]
    },
    {
     "name": "stderr",
     "output_type": "stream",
     "text": [
      "                                                             \r"
     ]
    },
    {
     "name": "stdout",
     "output_type": "stream",
     "text": [
      "Moviepy - Done !\n",
      "Moviepy - video ready /home/taehoonlee/KT/mp4s/diggled/SO1EO3.mp4\n",
      "1092 1114\n",
      "Moviepy - Building video /home/taehoonlee/KT/mp4s/diggled/SO1EO3.mp4.\n",
      "MoviePy - Writing audio in SO1EO3TEMP_MPY_wvf_snd.mp4\n"
     ]
    },
    {
     "name": "stderr",
     "output_type": "stream",
     "text": [
      "                                                                    \r"
     ]
    },
    {
     "name": "stdout",
     "output_type": "stream",
     "text": [
      "MoviePy - Done.\n",
      "Moviepy - Writing video /home/taehoonlee/KT/mp4s/diggled/SO1EO3.mp4\n",
      "\n"
     ]
    },
    {
     "name": "stderr",
     "output_type": "stream",
     "text": [
      "                                                               \r"
     ]
    },
    {
     "name": "stdout",
     "output_type": "stream",
     "text": [
      "Moviepy - Done !\n",
      "Moviepy - video ready /home/taehoonlee/KT/mp4s/diggled/SO1EO3.mp4\n",
      "1116 1160\n",
      "Moviepy - Building video /home/taehoonlee/KT/mp4s/diggled/SO1EO3.mp4.\n",
      "MoviePy - Writing audio in SO1EO3TEMP_MPY_wvf_snd.mp4\n"
     ]
    },
    {
     "name": "stderr",
     "output_type": "stream",
     "text": [
      "                                                                    \r"
     ]
    },
    {
     "name": "stdout",
     "output_type": "stream",
     "text": [
      "MoviePy - Done.\n",
      "Moviepy - Writing video /home/taehoonlee/KT/mp4s/diggled/SO1EO3.mp4\n",
      "\n"
     ]
    },
    {
     "name": "stderr",
     "output_type": "stream",
     "text": [
      "                                                                 \r"
     ]
    },
    {
     "name": "stdout",
     "output_type": "stream",
     "text": [
      "Moviepy - Done !\n",
      "Moviepy - video ready /home/taehoonlee/KT/mp4s/diggled/SO1EO3.mp4\n",
      "1162 1223\n",
      "Moviepy - Building video /home/taehoonlee/KT/mp4s/diggled/SO1EO3.mp4.\n",
      "MoviePy - Writing audio in SO1EO3TEMP_MPY_wvf_snd.mp4\n"
     ]
    },
    {
     "name": "stderr",
     "output_type": "stream",
     "text": [
      "                                                                      \r"
     ]
    },
    {
     "name": "stdout",
     "output_type": "stream",
     "text": [
      "MoviePy - Done.\n",
      "Moviepy - Writing video /home/taehoonlee/KT/mp4s/diggled/SO1EO3.mp4\n",
      "\n"
     ]
    },
    {
     "name": "stderr",
     "output_type": "stream",
     "text": [
      "                                                                 \r"
     ]
    },
    {
     "name": "stdout",
     "output_type": "stream",
     "text": [
      "Moviepy - Done !\n",
      "Moviepy - video ready /home/taehoonlee/KT/mp4s/diggled/SO1EO3.mp4\n",
      "1225 1303\n",
      "Moviepy - Building video /home/taehoonlee/KT/mp4s/diggled/SO1EO3.mp4.\n",
      "MoviePy - Writing audio in SO1EO3TEMP_MPY_wvf_snd.mp4\n"
     ]
    },
    {
     "name": "stderr",
     "output_type": "stream",
     "text": [
      "                                                                      \r"
     ]
    },
    {
     "name": "stdout",
     "output_type": "stream",
     "text": [
      "MoviePy - Done.\n",
      "Moviepy - Writing video /home/taehoonlee/KT/mp4s/diggled/SO1EO3.mp4\n",
      "\n"
     ]
    },
    {
     "name": "stderr",
     "output_type": "stream",
     "text": [
      "                                                                 \r"
     ]
    },
    {
     "name": "stdout",
     "output_type": "stream",
     "text": [
      "Moviepy - Done !\n",
      "Moviepy - video ready /home/taehoonlee/KT/mp4s/diggled/SO1EO3.mp4\n",
      "1305 1335\n",
      "Moviepy - Building video /home/taehoonlee/KT/mp4s/diggled/SO1EO3.mp4.\n",
      "MoviePy - Writing audio in SO1EO3TEMP_MPY_wvf_snd.mp4\n"
     ]
    },
    {
     "name": "stderr",
     "output_type": "stream",
     "text": [
      "                                                                    \r"
     ]
    },
    {
     "name": "stdout",
     "output_type": "stream",
     "text": [
      "MoviePy - Done.\n",
      "Moviepy - Writing video /home/taehoonlee/KT/mp4s/diggled/SO1EO3.mp4\n",
      "\n"
     ]
    },
    {
     "name": "stderr",
     "output_type": "stream",
     "text": [
      "                                                               \r"
     ]
    },
    {
     "name": "stdout",
     "output_type": "stream",
     "text": [
      "Moviepy - Done !\n",
      "Moviepy - video ready /home/taehoonlee/KT/mp4s/diggled/SO1EO3.mp4\n",
      "1412 1413\n",
      "Moviepy - Building video /home/taehoonlee/KT/mp4s/diggled/SO1EO3.mp4.\n",
      "MoviePy - Writing audio in SO1EO3TEMP_MPY_wvf_snd.mp4\n"
     ]
    },
    {
     "name": "stderr",
     "output_type": "stream",
     "text": [
      "                                                       \r"
     ]
    },
    {
     "name": "stdout",
     "output_type": "stream",
     "text": [
      "MoviePy - Done.\n",
      "Moviepy - Writing video /home/taehoonlee/KT/mp4s/diggled/SO1EO3.mp4\n",
      "\n"
     ]
    },
    {
     "name": "stderr",
     "output_type": "stream",
     "text": [
      "                                                             \r"
     ]
    },
    {
     "name": "stdout",
     "output_type": "stream",
     "text": [
      "Moviepy - Done !\n",
      "Moviepy - video ready /home/taehoonlee/KT/mp4s/diggled/SO1EO3.mp4\n",
      "1509 1510\n",
      "Moviepy - Building video /home/taehoonlee/KT/mp4s/diggled/SO1EO3.mp4.\n",
      "MoviePy - Writing audio in SO1EO3TEMP_MPY_wvf_snd.mp4\n"
     ]
    },
    {
     "name": "stderr",
     "output_type": "stream",
     "text": [
      "                                                       \r"
     ]
    },
    {
     "name": "stdout",
     "output_type": "stream",
     "text": [
      "MoviePy - Done.\n",
      "Moviepy - Writing video /home/taehoonlee/KT/mp4s/diggled/SO1EO3.mp4\n",
      "\n"
     ]
    },
    {
     "name": "stderr",
     "output_type": "stream",
     "text": [
      "                                                             \r"
     ]
    },
    {
     "name": "stdout",
     "output_type": "stream",
     "text": [
      "Moviepy - Done !\n",
      "Moviepy - video ready /home/taehoonlee/KT/mp4s/diggled/SO1EO3.mp4\n",
      "1529 1555\n",
      "Moviepy - Building video /home/taehoonlee/KT/mp4s/diggled/SO1EO3.mp4.\n",
      "MoviePy - Writing audio in SO1EO3TEMP_MPY_wvf_snd.mp4\n"
     ]
    },
    {
     "name": "stderr",
     "output_type": "stream",
     "text": [
      "                                                                    \r"
     ]
    },
    {
     "name": "stdout",
     "output_type": "stream",
     "text": [
      "MoviePy - Done.\n",
      "Moviepy - Writing video /home/taehoonlee/KT/mp4s/diggled/SO1EO3.mp4\n",
      "\n"
     ]
    },
    {
     "name": "stderr",
     "output_type": "stream",
     "text": [
      "                                                               \r"
     ]
    },
    {
     "name": "stdout",
     "output_type": "stream",
     "text": [
      "Moviepy - Done !\n",
      "Moviepy - video ready /home/taehoonlee/KT/mp4s/diggled/SO1EO3.mp4\n",
      "1557 1558\n",
      "Moviepy - Building video /home/taehoonlee/KT/mp4s/diggled/SO1EO3.mp4.\n",
      "MoviePy - Writing audio in SO1EO3TEMP_MPY_wvf_snd.mp4\n"
     ]
    },
    {
     "name": "stderr",
     "output_type": "stream",
     "text": [
      "                                                       \r"
     ]
    },
    {
     "name": "stdout",
     "output_type": "stream",
     "text": [
      "MoviePy - Done.\n",
      "Moviepy - Writing video /home/taehoonlee/KT/mp4s/diggled/SO1EO3.mp4\n",
      "\n"
     ]
    },
    {
     "name": "stderr",
     "output_type": "stream",
     "text": [
      "                                                             \r"
     ]
    },
    {
     "name": "stdout",
     "output_type": "stream",
     "text": [
      "Moviepy - Done !\n",
      "Moviepy - video ready /home/taehoonlee/KT/mp4s/diggled/SO1EO3.mp4\n",
      "1560 1561\n",
      "Moviepy - Building video /home/taehoonlee/KT/mp4s/diggled/SO1EO3.mp4.\n",
      "MoviePy - Writing audio in SO1EO3TEMP_MPY_wvf_snd.mp4\n"
     ]
    },
    {
     "name": "stderr",
     "output_type": "stream",
     "text": [
      "                                                       \r"
     ]
    },
    {
     "name": "stdout",
     "output_type": "stream",
     "text": [
      "MoviePy - Done.\n",
      "Moviepy - Writing video /home/taehoonlee/KT/mp4s/diggled/SO1EO3.mp4\n",
      "\n"
     ]
    },
    {
     "name": "stderr",
     "output_type": "stream",
     "text": [
      "                                                             \r"
     ]
    },
    {
     "name": "stdout",
     "output_type": "stream",
     "text": [
      "Moviepy - Done !\n",
      "Moviepy - video ready /home/taehoonlee/KT/mp4s/diggled/SO1EO3.mp4\n",
      "1564 1566\n",
      "Moviepy - Building video /home/taehoonlee/KT/mp4s/diggled/SO1EO3.mp4.\n",
      "MoviePy - Writing audio in SO1EO3TEMP_MPY_wvf_snd.mp4\n"
     ]
    },
    {
     "name": "stderr",
     "output_type": "stream",
     "text": [
      "                                                       \r"
     ]
    },
    {
     "name": "stdout",
     "output_type": "stream",
     "text": [
      "MoviePy - Done.\n",
      "Moviepy - Writing video /home/taehoonlee/KT/mp4s/diggled/SO1EO3.mp4\n",
      "\n"
     ]
    },
    {
     "name": "stderr",
     "output_type": "stream",
     "text": [
      "                                                             \r"
     ]
    },
    {
     "name": "stdout",
     "output_type": "stream",
     "text": [
      "Moviepy - Done !\n",
      "Moviepy - video ready /home/taehoonlee/KT/mp4s/diggled/SO1EO3.mp4\n",
      "1568 1569\n",
      "Moviepy - Building video /home/taehoonlee/KT/mp4s/diggled/SO1EO3.mp4.\n",
      "MoviePy - Writing audio in SO1EO3TEMP_MPY_wvf_snd.mp4\n"
     ]
    },
    {
     "name": "stderr",
     "output_type": "stream",
     "text": [
      "                                                       \r"
     ]
    },
    {
     "name": "stdout",
     "output_type": "stream",
     "text": [
      "MoviePy - Done.\n",
      "Moviepy - Writing video /home/taehoonlee/KT/mp4s/diggled/SO1EO3.mp4\n",
      "\n"
     ]
    },
    {
     "name": "stderr",
     "output_type": "stream",
     "text": [
      "                                                             \r"
     ]
    },
    {
     "name": "stdout",
     "output_type": "stream",
     "text": [
      "Moviepy - Done !\n",
      "Moviepy - video ready /home/taehoonlee/KT/mp4s/diggled/SO1EO3.mp4\n",
      "Moviepy - Building video /home/taehoonlee/KT/mp4s/diggled/SO1EO3.mp4.\n",
      "MoviePy - Writing audio in SO1EO3TEMP_MPY_wvf_snd.mp4\n"
     ]
    },
    {
     "name": "stderr",
     "output_type": "stream",
     "text": [
      "                                                                        \r"
     ]
    },
    {
     "name": "stdout",
     "output_type": "stream",
     "text": [
      "MoviePy - Done.\n",
      "Moviepy - Writing video /home/taehoonlee/KT/mp4s/diggled/SO1EO3.mp4\n",
      "\n"
     ]
    },
    {
     "name": "stderr",
     "output_type": "stream",
     "text": [
      "                                                                   \r"
     ]
    },
    {
     "name": "stdout",
     "output_type": "stream",
     "text": [
      "Moviepy - Done !\n",
      "Moviepy - video ready /home/taehoonlee/KT/mp4s/diggled/SO1EO3.mp4\n"
     ]
    }
   ],
   "source": [
    "def find_continuous_frames(frame_numbers):\n",
    "    continuous_frames = []\n",
    "    start = frame_numbers[0]\n",
    "    end = frame_numbers[0]\n",
    "\n",
    "    for i in range(1, len(frame_numbers)):\n",
    "        if frame_numbers[i] == end + 1:\n",
    "            end = frame_numbers[i]\n",
    "        else:\n",
    "            continuous_frames.append((start, end))\n",
    "            start = frame_numbers[i]\n",
    "            end = frame_numbers[i]\n",
    "\n",
    "    continuous_frames.append((start, end))\n",
    "    return continuous_frames\n",
    "\n",
    "def create_video_from_continuous_frames(input_video, continuous_frames, output_video_path):\n",
    "        clips = []\n",
    "        for start, end in continuous_frames:\n",
    "\n",
    "            if start == end:\n",
    "                end += 1\n",
    "\n",
    "            print(start, end)\n",
    "            \n",
    "            clip = input_video.subclip(start, end)\n",
    "            audio_clip = input_video.subclip(start, end).audio\n",
    "\n",
    "            clip.set_audio(audio_clip).write_videofile(output_video_path, codec=\"libx264\", audio_codec=\"aac\")\n",
    "            \n",
    "            clips.append(clip)\n",
    "        \n",
    "        final_clip = mp.concatenate_videoclips(clips)\n",
    "        final_clip.write_videofile(output_video_path, codec=\"libx264\", audio_codec=\"aac\")\n",
    "\n",
    "        final_clip.close()        \n",
    "\n",
    "\n",
    "\n",
    "\n",
    "# 사용 예시\n",
    "continous_frames = find_continuous_frames([pair[0] for pair in overlapping_frames])\n",
    "print(continous_frames)\n",
    "output_video_path = \"/home/taehoonlee/KT/mp4s/diggled/S01E03.mp4\"\n",
    "create_video_from_continuous_frames(merged_video, continous_frames, output_video_path)    "
   ]
  }
 ],
 "metadata": {
  "kernelspec": {
   "display_name": "KT",
   "language": "python",
   "name": "python3"
  },
  "language_info": {
   "codemirror_mode": {
    "name": "ipython",
    "version": 3
   },
   "file_extension": ".py",
   "mimetype": "text/x-python",
   "name": "python",
   "nbconvert_exporter": "python",
   "pygments_lexer": "ipython3",
   "version": "3.13.0"
  }
 },
 "nbformat": 4,
 "nbformat_minor": 2
}
